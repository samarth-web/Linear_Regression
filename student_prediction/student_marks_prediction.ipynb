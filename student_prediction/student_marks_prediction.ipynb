{
 "cells": [
  {
   "cell_type": "code",
   "execution_count": 15,
   "id": "4622ac2a-2a15-49da-823f-6655bef94f4f",
   "metadata": {
    "tags": []
   },
   "outputs": [
    {
     "data": {
      "text/html": [
       "<div>\n",
       "<style scoped>\n",
       "    .dataframe tbody tr th:only-of-type {\n",
       "        vertical-align: middle;\n",
       "    }\n",
       "\n",
       "    .dataframe tbody tr th {\n",
       "        vertical-align: top;\n",
       "    }\n",
       "\n",
       "    .dataframe thead th {\n",
       "        text-align: right;\n",
       "    }\n",
       "</style>\n",
       "<table border=\"1\" class=\"dataframe\">\n",
       "  <thead>\n",
       "    <tr style=\"text-align: right;\">\n",
       "      <th></th>\n",
       "      <th>G1</th>\n",
       "      <th>G2</th>\n",
       "      <th>G3</th>\n",
       "      <th>studytime</th>\n",
       "      <th>failures</th>\n",
       "      <th>absences</th>\n",
       "    </tr>\n",
       "  </thead>\n",
       "  <tbody>\n",
       "    <tr>\n",
       "      <th>0</th>\n",
       "      <td>5</td>\n",
       "      <td>6</td>\n",
       "      <td>6</td>\n",
       "      <td>2</td>\n",
       "      <td>0</td>\n",
       "      <td>6</td>\n",
       "    </tr>\n",
       "    <tr>\n",
       "      <th>1</th>\n",
       "      <td>5</td>\n",
       "      <td>5</td>\n",
       "      <td>6</td>\n",
       "      <td>2</td>\n",
       "      <td>0</td>\n",
       "      <td>4</td>\n",
       "    </tr>\n",
       "    <tr>\n",
       "      <th>2</th>\n",
       "      <td>7</td>\n",
       "      <td>8</td>\n",
       "      <td>10</td>\n",
       "      <td>2</td>\n",
       "      <td>3</td>\n",
       "      <td>10</td>\n",
       "    </tr>\n",
       "    <tr>\n",
       "      <th>3</th>\n",
       "      <td>15</td>\n",
       "      <td>14</td>\n",
       "      <td>15</td>\n",
       "      <td>3</td>\n",
       "      <td>0</td>\n",
       "      <td>2</td>\n",
       "    </tr>\n",
       "    <tr>\n",
       "      <th>4</th>\n",
       "      <td>6</td>\n",
       "      <td>10</td>\n",
       "      <td>10</td>\n",
       "      <td>2</td>\n",
       "      <td>0</td>\n",
       "      <td>4</td>\n",
       "    </tr>\n",
       "  </tbody>\n",
       "</table>\n",
       "</div>"
      ],
      "text/plain": [
       "   G1  G2  G3  studytime  failures  absences\n",
       "0   5   6   6          2         0         6\n",
       "1   5   5   6          2         0         4\n",
       "2   7   8  10          2         3        10\n",
       "3  15  14  15          3         0         2\n",
       "4   6  10  10          2         0         4"
      ]
     },
     "execution_count": 15,
     "metadata": {},
     "output_type": "execute_result"
    }
   ],
   "source": [
    "import pandas as pd\n",
    "import numpy as np\n",
    "import sklearn\n",
    "import sklearn.model_selection\n",
    "from sklearn import linear_model\n",
    "data = pd.read_csv(\"student-mat.csv\",sep=\";\")\n",
    "data = data[[\"G1\",\"G2\",\"G3\",\"studytime\",\"failures\",\"absences\"]]\n",
    "data.head()"
   ]
  },
  {
   "cell_type": "code",
   "execution_count": 5,
   "id": "bdfc1364-8cdc-4c2e-9718-54242c448e6b",
   "metadata": {
    "tags": []
   },
   "outputs": [
    {
     "name": "stderr",
     "output_type": "stream",
     "text": [
      "/var/folders/bj/456rqhh55vq73f907rw_gh8r0000gp/T/ipykernel_73375/2488800115.py:2: FutureWarning: In a future version of pandas all arguments of DataFrame.drop except for the argument 'labels' will be keyword-only.\n",
      "  x = np.array(data.drop([predict],1))\n"
     ]
    }
   ],
   "source": [
    "\n",
    "predict=\"G3\" #Called a Label, ie the values you are trying to achieve\n",
    "x = np.array(data.drop([predict],1))\n",
    "y = np.array(data[predict])\n"
   ]
  },
  {
   "cell_type": "code",
   "execution_count": 7,
   "id": "e808f3d5-ba1c-452c-82c6-8ec9c883bdbc",
   "metadata": {
    "tags": []
   },
   "outputs": [],
   "source": [
    "x_train,x_test,y_train,y_test = sklearn.model_selection.train_test_split(x,y, test_size=0.1)"
   ]
  },
  {
   "cell_type": "code",
   "execution_count": 20,
   "id": "a0412cd0-eb7d-4f9f-a60d-f93a037f2b03",
   "metadata": {},
   "outputs": [
    {
     "data": {
      "text/plain": [
       "0.8703729667043284"
      ]
     },
     "execution_count": 20,
     "metadata": {},
     "output_type": "execute_result"
    }
   ],
   "source": [
    "linear = linear_model.LinearRegression()\n",
    "linear.fit(x_train,y_train)\n",
    "\n",
    "linear.score(x_test,y_test)#just for accuracy"
   ]
  },
  {
   "cell_type": "code",
   "execution_count": 10,
   "id": "765ed50f-a02d-4230-ae94-60c33d75b844",
   "metadata": {
    "tags": []
   },
   "outputs": [
    {
     "name": "stdout",
     "output_type": "stream",
     "text": [
      "Coefficient:  [ 0.15901529  0.96912241 -0.18761315 -0.31801305  0.0359391 ]\n",
      "Intercept: -1.434321113551512\n"
     ]
    }
   ],
   "source": [
    "print(\"Coefficient: \" ,linear.coef_)\n",
    "print(\"Intercept:\" , linear.intercept_)"
   ]
  },
  {
   "cell_type": "code",
   "execution_count": 11,
   "id": "a142a3a1-160f-421c-b1cd-7997a7b25914",
   "metadata": {
    "tags": []
   },
   "outputs": [
    {
     "name": "stdout",
     "output_type": "stream",
     "text": [
      "14.953502742863783 [14 15  2  0  0] 15\n",
      "12.928120828733647 [13 13  2  0  2] 13\n",
      "15.248933177311134 [14 15  1  0  3] 16\n",
      "9.630844837136605 [11 10  2  0  0] 10\n",
      "14.012978195205363 [13 14  1  0  0] 14\n",
      "8.025661279537244 [7 9 2 0 0] 8\n",
      "5.015898050829278 [5 6 2 0 6] 6\n",
      "9.45657064419648 [ 9 10  2  0  4] 10\n",
      "6.823778014288436 [9 8 1 3 6] 10\n",
      "16.145600958050146 [15 16  3  0  7] 15\n",
      "5.899803313513221 [7 7 3 0 0] 8\n",
      "15.256274411500655 [15 15  2  0  4] 15\n",
      "16.42826887444243 [16 16  1  0  0] 15\n",
      "12.928120828733647 [13 13  2  0  2] 13\n",
      "10.671845436688912 [11 11  2  0  2] 11\n",
      "8.646463522558774 [10  9  2  0  4] 11\n",
      "9.34141212392356 [ 8 10  1  0  0] 11\n",
      "18.337339393562132 [18 18  4  0  6] 18\n",
      "14.86636564639372 [13 15  2  0  2] 16\n",
      "14.315749863842232 [14 14  1  0  4] 14\n",
      "9.21041826053409 [ 7 10  2  0  6] 10\n",
      "12.782462020905072 [12 13  1  1  6] 14\n",
      "18.97205702937624 [18 18  1  0  8] 18\n",
      "12.000358799130295 [11 12  2  0 12] 11\n",
      "8.256554757451845 [8 9 2 0 2] 8\n",
      "7.287239176429932 [5 9 2 2 6] 7\n",
      "8.036732067340084 [10  8  2  0 14] 9\n",
      "15.63092427085979 [16 15  2  0 10] 15\n",
      "9.448652972638207 [ 9 10  3  0  9] 9\n",
      "9.615585931388813 [10 10  2  0  4] 11\n",
      "5.30590720141108 [7 6 1 0 0] 0\n",
      "7.595642825064159 [ 9  8  2  1 15] 8\n",
      "3.6721433065800353 [6 5 2 1 0] 0\n",
      "9.731320889030492 [10 10  1  0  2] 10\n",
      "15.083920168884497 [16 15  3  0  0] 15\n",
      "8.6598024779826 [8 9 1 0 8] 10\n",
      "6.434044897433448 [8 7 1 0 0] 6\n",
      "8.935703063579945 [10 10  3  2  8] 10\n",
      "7.838048131173295 [7 9 3 0 0] 8\n",
      "10.758982533158973 [12 11  2  0  0] 12\n"
     ]
    }
   ],
   "source": [
    "predictions = linear.predict(x_test)\n",
    "for x in range(len(predictions)):\n",
    "   print( predictions[x],x_test[x],y_test[x])"
   ]
  },
  {
   "cell_type": "code",
   "execution_count": null,
   "id": "5b2301dd-acde-4215-b774-17d3ab90c915",
   "metadata": {},
   "outputs": [],
   "source": []
  }
 ],
 "metadata": {
  "kernelspec": {
   "display_name": "Python 3 (ipykernel)",
   "language": "python",
   "name": "python3"
  },
  "language_info": {
   "codemirror_mode": {
    "name": "ipython",
    "version": 3
   },
   "file_extension": ".py",
   "mimetype": "text/x-python",
   "name": "python",
   "nbconvert_exporter": "python",
   "pygments_lexer": "ipython3",
   "version": "3.10.8"
  }
 },
 "nbformat": 4,
 "nbformat_minor": 5
}
